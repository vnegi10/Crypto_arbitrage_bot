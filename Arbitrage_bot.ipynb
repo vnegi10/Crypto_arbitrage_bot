{
 "cells": [
  {
   "cell_type": "code",
   "execution_count": 180,
   "id": "1d801c09-de47-4f8c-92b5-670d67ff0929",
   "metadata": {},
   "outputs": [],
   "source": [
    "import requests as rq\n",
    "import json\n",
    "import pandas as pd\n",
    "pd.options.plotting.backend = \"plotly\"\n",
    "import numpy as np\n",
    "import warnings\n",
    "import pytz\n",
    "from datetime import datetime\n",
    "import time\n",
    "from IPython.display import clear_output"
   ]
  },
  {
   "cell_type": "code",
   "execution_count": 2,
   "id": "d5822979-66da-40ea-b332-02406889f7af",
   "metadata": {
    "tags": []
   },
   "outputs": [],
   "source": [
    "# Get demo API key\n",
    "def get_demo_key():\n",
    "    f = open(\"/home/vikas/Documents/CG_demo_key.json\")\n",
    "    key_dict = json.load(f)\n",
    "    return key_dict[\"key\"] "
   ]
  },
  {
   "cell_type": "code",
   "execution_count": 7,
   "id": "24c4970f-edab-4230-92d7-3e86817a7306",
   "metadata": {
    "tags": []
   },
   "outputs": [],
   "source": [
    "use_demo = {\n",
    "           \"accept\": \"application/json\",\n",
    "           \"x-cg-demo-api-key\" : get_demo_key() \n",
    "}"
   ]
  },
  {
   "cell_type": "code",
   "execution_count": 3,
   "id": "fe956037-3b40-4c7e-9692-ce02cb5e0a9e",
   "metadata": {
    "tags": []
   },
   "outputs": [],
   "source": [
    "# Get pro API key\n",
    "def get_pro_key():\n",
    "    f = open(\"/home/vikas/Documents/CG_pro_key.json\")\n",
    "    key_dict = json.load(f)\n",
    "    return key_dict[\"key\"] "
   ]
  },
  {
   "cell_type": "markdown",
   "id": "3168b778-e957-43d2-a13a-d6fe23063e78",
   "metadata": {},
   "source": [
    "## Get list of exchanges"
   ]
  },
  {
   "cell_type": "code",
   "execution_count": 4,
   "id": "b8f31ae7-2c7c-4d0c-bdb6-d8e51484907d",
   "metadata": {
    "tags": []
   },
   "outputs": [],
   "source": [
    "PUB_URL = \"https://api.coingecko.com/api/v3\"\n",
    "PRO_URL = \"https://pro-api.coingecko.com/api/v3\""
   ]
  },
  {
   "cell_type": "code",
   "execution_count": 5,
   "id": "58f7a142-1261-4b71-be45-9dfdb7dba06f",
   "metadata": {
    "tags": []
   },
   "outputs": [],
   "source": [
    "def get_response(endpoint, headers, params, URL):\n",
    "    url = \"\".join((URL, endpoint))\n",
    "    response = rq.get(url, headers = headers, params = params)\n",
    "    if response.status_code == 200:\n",
    "        data = response.json()\n",
    "        return data\n",
    "    else:\n",
    "        print(f\"Failed to fetch data, check status code {response.status_code}\")    "
   ]
  },
  {
   "cell_type": "code",
   "execution_count": 9,
   "id": "2d033e73-c8f9-48f7-b548-7f98e6226b18",
   "metadata": {
    "tags": []
   },
   "outputs": [],
   "source": [
    "# Valid values for results per page is between 1-250\n",
    "exchange_params = {\n",
    "            \"per_page\": 250,\n",
    "            \"page\": 1\n",
    "}"
   ]
  },
  {
   "cell_type": "code",
   "execution_count": 10,
   "id": "0f41ea48-0897-4c9d-9a08-62ef5b76b620",
   "metadata": {},
   "outputs": [],
   "source": [
    "exchange_list_response = get_response(\"/exchanges\", use_demo, exchange_params, PUB_URL)"
   ]
  },
  {
   "cell_type": "code",
   "execution_count": 11,
   "id": "5649122c-bef3-471f-b535-2f059958c71c",
   "metadata": {
    "tags": []
   },
   "outputs": [],
   "source": [
    "df_ex = pd.DataFrame(exchange_list_response)"
   ]
  },
  {
   "cell_type": "code",
   "execution_count": 12,
   "id": "92063a67-1767-49c9-9b0b-b77f9dc1f48d",
   "metadata": {
    "tags": []
   },
   "outputs": [
    {
     "data": {
      "text/html": [
       "<div>\n",
       "<style scoped>\n",
       "    .dataframe tbody tr th:only-of-type {\n",
       "        vertical-align: middle;\n",
       "    }\n",
       "\n",
       "    .dataframe tbody tr th {\n",
       "        vertical-align: top;\n",
       "    }\n",
       "\n",
       "    .dataframe thead th {\n",
       "        text-align: right;\n",
       "    }\n",
       "</style>\n",
       "<table border=\"1\" class=\"dataframe\">\n",
       "  <thead>\n",
       "    <tr style=\"text-align: right;\">\n",
       "      <th></th>\n",
       "      <th>id</th>\n",
       "      <th>name</th>\n",
       "      <th>year_established</th>\n",
       "      <th>country</th>\n",
       "      <th>description</th>\n",
       "      <th>url</th>\n",
       "      <th>image</th>\n",
       "      <th>has_trading_incentive</th>\n",
       "      <th>trust_score</th>\n",
       "      <th>trust_score_rank</th>\n",
       "      <th>trade_volume_24h_btc</th>\n",
       "      <th>trade_volume_24h_btc_normalized</th>\n",
       "    </tr>\n",
       "  </thead>\n",
       "  <tbody>\n",
       "    <tr>\n",
       "      <th>0</th>\n",
       "      <td>bybit_spot</td>\n",
       "      <td>Bybit</td>\n",
       "      <td>2018.0</td>\n",
       "      <td>British Virgin Islands</td>\n",
       "      <td>Bybit is a cryptocurrency exchange that offers...</td>\n",
       "      <td>https://www.bybit.com</td>\n",
       "      <td>https://coin-images.coingecko.com/markets/imag...</td>\n",
       "      <td>False</td>\n",
       "      <td>10.0</td>\n",
       "      <td>1.0</td>\n",
       "      <td>32158.188622</td>\n",
       "      <td>22423.270927</td>\n",
       "    </tr>\n",
       "    <tr>\n",
       "      <th>1</th>\n",
       "      <td>gdax</td>\n",
       "      <td>Coinbase Exchange</td>\n",
       "      <td>2012.0</td>\n",
       "      <td>United States</td>\n",
       "      <td></td>\n",
       "      <td>https://www.coinbase.com/</td>\n",
       "      <td>https://coin-images.coingecko.com/markets/imag...</td>\n",
       "      <td>False</td>\n",
       "      <td>10.0</td>\n",
       "      <td>2.0</td>\n",
       "      <td>14825.942967</td>\n",
       "      <td>14825.942967</td>\n",
       "    </tr>\n",
       "    <tr>\n",
       "      <th>2</th>\n",
       "      <td>okex</td>\n",
       "      <td>OKX</td>\n",
       "      <td>2017.0</td>\n",
       "      <td>Seychelles</td>\n",
       "      <td></td>\n",
       "      <td>https://www.okx.com</td>\n",
       "      <td>https://coin-images.coingecko.com/markets/imag...</td>\n",
       "      <td>False</td>\n",
       "      <td>10.0</td>\n",
       "      <td>3.0</td>\n",
       "      <td>14619.888740</td>\n",
       "      <td>14619.888740</td>\n",
       "    </tr>\n",
       "    <tr>\n",
       "      <th>3</th>\n",
       "      <td>gate</td>\n",
       "      <td>Gate.io</td>\n",
       "      <td>NaN</td>\n",
       "      <td>Cayman Islands</td>\n",
       "      <td>Gate was established in 2013, and it is the to...</td>\n",
       "      <td>https://www.gate.io/</td>\n",
       "      <td>https://coin-images.coingecko.com/markets/imag...</td>\n",
       "      <td>False</td>\n",
       "      <td>10.0</td>\n",
       "      <td>4.0</td>\n",
       "      <td>17907.743194</td>\n",
       "      <td>11861.251440</td>\n",
       "    </tr>\n",
       "    <tr>\n",
       "      <th>4</th>\n",
       "      <td>kucoin</td>\n",
       "      <td>KuCoin</td>\n",
       "      <td>2017.0</td>\n",
       "      <td>Seychelles</td>\n",
       "      <td>Launched in September 2017, KuCoin is a global...</td>\n",
       "      <td>https://www.kucoin.com/</td>\n",
       "      <td>https://coin-images.coingecko.com/markets/imag...</td>\n",
       "      <td>False</td>\n",
       "      <td>10.0</td>\n",
       "      <td>5.0</td>\n",
       "      <td>5974.994369</td>\n",
       "      <td>4433.619730</td>\n",
       "    </tr>\n",
       "    <tr>\n",
       "      <th>...</th>\n",
       "      <td>...</td>\n",
       "      <td>...</td>\n",
       "      <td>...</td>\n",
       "      <td>...</td>\n",
       "      <td>...</td>\n",
       "      <td>...</td>\n",
       "      <td>...</td>\n",
       "      <td>...</td>\n",
       "      <td>...</td>\n",
       "      <td>...</td>\n",
       "      <td>...</td>\n",
       "      <td>...</td>\n",
       "    </tr>\n",
       "    <tr>\n",
       "      <th>245</th>\n",
       "      <td>curve-bsc</td>\n",
       "      <td>Curve (BSC)</td>\n",
       "      <td>NaN</td>\n",
       "      <td>None</td>\n",
       "      <td></td>\n",
       "      <td>https://curve.fi/#/bsc/swap</td>\n",
       "      <td>https://coin-images.coingecko.com/markets/imag...</td>\n",
       "      <td>False</td>\n",
       "      <td>NaN</td>\n",
       "      <td>244.0</td>\n",
       "      <td>2.417181</td>\n",
       "      <td>2.417181</td>\n",
       "    </tr>\n",
       "    <tr>\n",
       "      <th>246</th>\n",
       "      <td>bunnyswap</td>\n",
       "      <td>BunnySwap</td>\n",
       "      <td>NaN</td>\n",
       "      <td>None</td>\n",
       "      <td></td>\n",
       "      <td></td>\n",
       "      <td>https://coin-images.coingecko.com/markets/imag...</td>\n",
       "      <td>False</td>\n",
       "      <td>5.0</td>\n",
       "      <td>245.0</td>\n",
       "      <td>1.990213</td>\n",
       "      <td>1.990213</td>\n",
       "    </tr>\n",
       "    <tr>\n",
       "      <th>247</th>\n",
       "      <td>spartadex</td>\n",
       "      <td>SpartaDEX</td>\n",
       "      <td>2023.0</td>\n",
       "      <td>Estonia</td>\n",
       "      <td></td>\n",
       "      <td>https://app.spartadex.io/dex</td>\n",
       "      <td>https://coin-images.coingecko.com/markets/imag...</td>\n",
       "      <td>False</td>\n",
       "      <td>5.0</td>\n",
       "      <td>246.0</td>\n",
       "      <td>2.067631</td>\n",
       "      <td>2.067631</td>\n",
       "    </tr>\n",
       "    <tr>\n",
       "      <th>248</th>\n",
       "      <td>pearl-exchange</td>\n",
       "      <td>PearlFi</td>\n",
       "      <td>NaN</td>\n",
       "      <td>None</td>\n",
       "      <td></td>\n",
       "      <td>https://www.pearl.exchange/swap</td>\n",
       "      <td>https://coin-images.coingecko.com/markets/imag...</td>\n",
       "      <td>False</td>\n",
       "      <td>5.0</td>\n",
       "      <td>247.0</td>\n",
       "      <td>1.932746</td>\n",
       "      <td>1.932746</td>\n",
       "    </tr>\n",
       "    <tr>\n",
       "      <th>249</th>\n",
       "      <td>quickswap_v3_x_layer</td>\n",
       "      <td>Quickswap V3 (X Layer)</td>\n",
       "      <td>NaN</td>\n",
       "      <td>None</td>\n",
       "      <td></td>\n",
       "      <td>https://quickswap.exchange/#/swap?</td>\n",
       "      <td>https://coin-images.coingecko.com/markets/imag...</td>\n",
       "      <td>False</td>\n",
       "      <td>5.0</td>\n",
       "      <td>248.0</td>\n",
       "      <td>1.806340</td>\n",
       "      <td>1.806340</td>\n",
       "    </tr>\n",
       "  </tbody>\n",
       "</table>\n",
       "<p>250 rows × 12 columns</p>\n",
       "</div>"
      ],
      "text/plain": [
       "                       id                    name  year_established  \\\n",
       "0              bybit_spot                   Bybit            2018.0   \n",
       "1                    gdax       Coinbase Exchange            2012.0   \n",
       "2                    okex                     OKX            2017.0   \n",
       "3                    gate                 Gate.io               NaN   \n",
       "4                  kucoin                  KuCoin            2017.0   \n",
       "..                    ...                     ...               ...   \n",
       "245             curve-bsc             Curve (BSC)               NaN   \n",
       "246             bunnyswap               BunnySwap               NaN   \n",
       "247             spartadex               SpartaDEX            2023.0   \n",
       "248        pearl-exchange                 PearlFi               NaN   \n",
       "249  quickswap_v3_x_layer  Quickswap V3 (X Layer)               NaN   \n",
       "\n",
       "                    country  \\\n",
       "0    British Virgin Islands   \n",
       "1             United States   \n",
       "2                Seychelles   \n",
       "3            Cayman Islands   \n",
       "4                Seychelles   \n",
       "..                      ...   \n",
       "245                    None   \n",
       "246                    None   \n",
       "247                 Estonia   \n",
       "248                    None   \n",
       "249                    None   \n",
       "\n",
       "                                           description  \\\n",
       "0    Bybit is a cryptocurrency exchange that offers...   \n",
       "1                                                        \n",
       "2                                                        \n",
       "3    Gate was established in 2013, and it is the to...   \n",
       "4    Launched in September 2017, KuCoin is a global...   \n",
       "..                                                 ...   \n",
       "245                                                      \n",
       "246                                                      \n",
       "247                                                      \n",
       "248                                                      \n",
       "249                                                      \n",
       "\n",
       "                                    url  \\\n",
       "0                 https://www.bybit.com   \n",
       "1             https://www.coinbase.com/   \n",
       "2                   https://www.okx.com   \n",
       "3                  https://www.gate.io/   \n",
       "4               https://www.kucoin.com/   \n",
       "..                                  ...   \n",
       "245         https://curve.fi/#/bsc/swap   \n",
       "246                                       \n",
       "247        https://app.spartadex.io/dex   \n",
       "248     https://www.pearl.exchange/swap   \n",
       "249  https://quickswap.exchange/#/swap?   \n",
       "\n",
       "                                                 image has_trading_incentive  \\\n",
       "0    https://coin-images.coingecko.com/markets/imag...                 False   \n",
       "1    https://coin-images.coingecko.com/markets/imag...                 False   \n",
       "2    https://coin-images.coingecko.com/markets/imag...                 False   \n",
       "3    https://coin-images.coingecko.com/markets/imag...                 False   \n",
       "4    https://coin-images.coingecko.com/markets/imag...                 False   \n",
       "..                                                 ...                   ...   \n",
       "245  https://coin-images.coingecko.com/markets/imag...                 False   \n",
       "246  https://coin-images.coingecko.com/markets/imag...                 False   \n",
       "247  https://coin-images.coingecko.com/markets/imag...                 False   \n",
       "248  https://coin-images.coingecko.com/markets/imag...                 False   \n",
       "249  https://coin-images.coingecko.com/markets/imag...                 False   \n",
       "\n",
       "     trust_score  trust_score_rank  trade_volume_24h_btc  \\\n",
       "0           10.0               1.0          32158.188622   \n",
       "1           10.0               2.0          14825.942967   \n",
       "2           10.0               3.0          14619.888740   \n",
       "3           10.0               4.0          17907.743194   \n",
       "4           10.0               5.0           5974.994369   \n",
       "..           ...               ...                   ...   \n",
       "245          NaN             244.0              2.417181   \n",
       "246          5.0             245.0              1.990213   \n",
       "247          5.0             246.0              2.067631   \n",
       "248          5.0             247.0              1.932746   \n",
       "249          5.0             248.0              1.806340   \n",
       "\n",
       "     trade_volume_24h_btc_normalized  \n",
       "0                       22423.270927  \n",
       "1                       14825.942967  \n",
       "2                       14619.888740  \n",
       "3                       11861.251440  \n",
       "4                        4433.619730  \n",
       "..                               ...  \n",
       "245                         2.417181  \n",
       "246                         1.990213  \n",
       "247                         2.067631  \n",
       "248                         1.932746  \n",
       "249                         1.806340  \n",
       "\n",
       "[250 rows x 12 columns]"
      ]
     },
     "execution_count": 12,
     "metadata": {},
     "output_type": "execute_result"
    }
   ],
   "source": [
    "df_ex"
   ]
  },
  {
   "cell_type": "code",
   "execution_count": 13,
   "id": "b2b74285-a3bb-4629-ae8d-f1593404fc81",
   "metadata": {
    "tags": []
   },
   "outputs": [
    {
     "data": {
      "text/plain": [
       "['id',\n",
       " 'name',\n",
       " 'year_established',\n",
       " 'country',\n",
       " 'description',\n",
       " 'url',\n",
       " 'image',\n",
       " 'has_trading_incentive',\n",
       " 'trust_score',\n",
       " 'trust_score_rank',\n",
       " 'trade_volume_24h_btc',\n",
       " 'trade_volume_24h_btc_normalized']"
      ]
     },
     "execution_count": 13,
     "metadata": {},
     "output_type": "execute_result"
    }
   ],
   "source": [
    "list(df_ex.columns)"
   ]
  },
  {
   "cell_type": "markdown",
   "id": "51d688eb-e137-40f9-a773-5eb46750f627",
   "metadata": {},
   "source": [
    "#### List exchanges by trading volume"
   ]
  },
  {
   "cell_type": "code",
   "execution_count": 58,
   "id": "4b2902da-f2b8-4f7e-8d38-890adcf02914",
   "metadata": {
    "tags": []
   },
   "outputs": [],
   "source": [
    "df_ex_subset = df_ex[[\"id\", \"name\", \"country\", \"trade_volume_24h_btc\"]]\n",
    "df_ex_subset = df_ex_subset.sort_values(by = [\"trade_volume_24h_btc\"], ascending = False)"
   ]
  },
  {
   "cell_type": "code",
   "execution_count": 66,
   "id": "4b31b37b-f431-4331-870a-7c581f0263c2",
   "metadata": {
    "tags": []
   },
   "outputs": [
    {
     "data": {
      "text/plain": [
       "array(['Cayman Islands', 'Seychelles', 'British Virgin Islands',\n",
       "       'United States', 'Lithuania', 'Singapore', 'Malta', 'South Korea',\n",
       "       'Canada', None, 'United Arab Emirates', 'Gibraltar', 'Australia',\n",
       "       'Bermuda', 'Hong Kong', 'Spain', 'Turkey', 'Netherlands',\n",
       "       'Bahamas', 'Luxembourg', 'Saint Vincent and the Grenadines',\n",
       "       'United Kingdom', 'Vanuatu', 'Belize', 'Argentina', 'Costa Rica',\n",
       "       'Samoa', 'Estonia', 'Thailand', 'Japan', 'Indonesia', 'Taiwan',\n",
       "       'Philippines', 'Switzerland', 'Brazil', 'India', 'South Africa',\n",
       "       'Unknown or Invalid Region', 'Liechtenstein', 'Panama', 'Georgia',\n",
       "       'Jamaica', 'Slovenia'], dtype=object)"
      ]
     },
     "execution_count": 66,
     "metadata": {},
     "output_type": "execute_result"
    }
   ],
   "source": [
    "df_ex_subset[\"country\"].unique()"
   ]
  },
  {
   "cell_type": "code",
   "execution_count": 72,
   "id": "6a0140b8-1420-474c-a0e3-7036416dfb49",
   "metadata": {
    "tags": []
   },
   "outputs": [
    {
     "data": {
      "text/html": [
       "<div>\n",
       "<style scoped>\n",
       "    .dataframe tbody tr th:only-of-type {\n",
       "        vertical-align: middle;\n",
       "    }\n",
       "\n",
       "    .dataframe tbody tr th {\n",
       "        vertical-align: top;\n",
       "    }\n",
       "\n",
       "    .dataframe thead th {\n",
       "        text-align: right;\n",
       "    }\n",
       "</style>\n",
       "<table border=\"1\" class=\"dataframe\">\n",
       "  <thead>\n",
       "    <tr style=\"text-align: right;\">\n",
       "      <th></th>\n",
       "      <th>id</th>\n",
       "      <th>name</th>\n",
       "      <th>country</th>\n",
       "      <th>trade_volume_24h_btc</th>\n",
       "    </tr>\n",
       "  </thead>\n",
       "  <tbody>\n",
       "    <tr>\n",
       "      <th>12</th>\n",
       "      <td>hashkey_exchange</td>\n",
       "      <td>HashKey Exchange</td>\n",
       "      <td>Hong Kong</td>\n",
       "      <td>1830.439435</td>\n",
       "    </tr>\n",
       "    <tr>\n",
       "      <th>113</th>\n",
       "      <td>tokpie</td>\n",
       "      <td>Tokpie</td>\n",
       "      <td>Hong Kong</td>\n",
       "      <td>75.880736</td>\n",
       "    </tr>\n",
       "  </tbody>\n",
       "</table>\n",
       "</div>"
      ],
      "text/plain": [
       "                   id              name    country  trade_volume_24h_btc\n",
       "12   hashkey_exchange  HashKey Exchange  Hong Kong           1830.439435\n",
       "113            tokpie            Tokpie  Hong Kong             75.880736"
      ]
     },
     "execution_count": 72,
     "metadata": {},
     "output_type": "execute_result"
    }
   ],
   "source": [
    "df_ex_subset[(df_ex_subset[\"country\"] == \"Hong Kong\")]"
   ]
  },
  {
   "cell_type": "markdown",
   "id": "4572ed62-d4f2-4f52-b998-b7e3fd4ec6f4",
   "metadata": {},
   "source": [
    "## Get exchange tickers"
   ]
  },
  {
   "cell_type": "code",
   "execution_count": 78,
   "id": "d30f033e-66a5-488b-b64d-c959439febe1",
   "metadata": {
    "tags": []
   },
   "outputs": [],
   "source": [
    "def get_curr_exchange(id, base_curr, target_curr):\n",
    "    \n",
    "    exchange_ticker_response = get_response(f\"/exchanges/{id}/tickers\",\n",
    "                                            use_demo,\n",
    "                                            {},\n",
    "                                            PUB_URL)\n",
    "    \n",
    "    found_match = \"\"\n",
    "    \n",
    "    for ticker in exchange_ticker_response[\"tickers\"]:\n",
    "        if ticker[\"base\"] == base_curr and ticker[\"target\"] == target_curr:\n",
    "            found_match = ticker\n",
    "            break\n",
    "            \n",
    "    if found_match == \"\":\n",
    "        warnings.warn(f\"No data found for {base_curr}-{target_curr} pair in {id}\")\n",
    "    \n",
    "    return found_match"
   ]
  },
  {
   "cell_type": "code",
   "execution_count": 127,
   "id": "d0fdb80d-0b73-44dd-95fe-fe9a7f1cd264",
   "metadata": {
    "tags": []
   },
   "outputs": [],
   "source": [
    "test_data = get_curr_exchange(\"gdax\", \"BTC\", \"USD\")"
   ]
  },
  {
   "cell_type": "code",
   "execution_count": 128,
   "id": "7f4dc1fa-083c-4687-9404-712c86243261",
   "metadata": {
    "tags": []
   },
   "outputs": [
    {
     "data": {
      "text/plain": [
       "{'base': 'BTC',\n",
       " 'target': 'USD',\n",
       " 'market': {'name': 'Coinbase Exchange',\n",
       "  'identifier': 'gdax',\n",
       "  'has_trading_incentive': False},\n",
       " 'last': 64304.83,\n",
       " 'volume': 2418.27443904,\n",
       " 'converted_last': {'btc': 1.000403, 'eth': 18.370559, 'usd': 64305},\n",
       " 'converted_volume': {'btc': 2419, 'eth': 44425, 'usd': 155506727},\n",
       " 'trust_score': 'green',\n",
       " 'bid_ask_spread_percentage': 0.010016,\n",
       " 'timestamp': '2024-06-22T21:58:01+00:00',\n",
       " 'last_traded_at': '2024-06-22T21:58:01+00:00',\n",
       " 'last_fetch_at': '2024-06-22T21:59:00+00:00',\n",
       " 'is_anomaly': False,\n",
       " 'is_stale': False,\n",
       " 'trade_url': 'https://www.coinbase.com/advanced-trade/spot/BTC-USD',\n",
       " 'token_info_url': None,\n",
       " 'coin_id': 'bitcoin'}"
      ]
     },
     "execution_count": 128,
     "metadata": {},
     "output_type": "execute_result"
    }
   ],
   "source": [
    "test_data"
   ]
  },
  {
   "cell_type": "markdown",
   "id": "32016045-5ffa-4531-8737-0f62904c9579",
   "metadata": {},
   "source": [
    "## Convert to local timezone"
   ]
  },
  {
   "cell_type": "code",
   "execution_count": 107,
   "id": "2c802838-0fd3-4108-8f9b-8adffc8631b4",
   "metadata": {
    "tags": []
   },
   "outputs": [
    {
     "data": {
      "text/plain": [
       "True"
      ]
     },
     "execution_count": 107,
     "metadata": {},
     "output_type": "execute_result"
    }
   ],
   "source": [
    "\"UTC\" in pytz.all_timezones"
   ]
  },
  {
   "cell_type": "code",
   "execution_count": 118,
   "id": "1b92046a-ee9d-4d23-9208-6bfc474e54ea",
   "metadata": {
    "tags": []
   },
   "outputs": [],
   "source": [
    "def convert_to_local_tz(old_ts):\n",
    "    \n",
    "    new_tz = pytz.timezone(\"Europe/Amsterdam\")\n",
    "    old_tz = pytz.timezone(\"UTC\")\n",
    "    \n",
    "    format = \"%Y-%m-%dT%H:%M:%S+00:00\"\n",
    "    datetime_obj = datetime.strptime(old_ts, format)\n",
    "    \n",
    "    localized_ts = old_tz.localize(datetime_obj)\n",
    "    new_ts = localized_ts.astimezone(new_tz)\n",
    "    \n",
    "    return new_ts   "
   ]
  },
  {
   "cell_type": "markdown",
   "id": "b5614713-dd0a-4503-a3a1-b93490411c3f",
   "metadata": {},
   "source": [
    "## Collect data for multiple exchanges based on country"
   ]
  },
  {
   "cell_type": "code",
   "execution_count": 131,
   "id": "c22e72b7-c968-4824-a7fc-9517ec8990d9",
   "metadata": {
    "tags": []
   },
   "outputs": [],
   "source": [
    "def get_curr_all_exchanges(country,\n",
    "                           base_curr,\n",
    "                           target_curr):\n",
    "    \n",
    "    df_all = df_ex_subset[(df_ex_subset[\"country\"] == country)]    \n",
    "    \n",
    "    exchanges_list = df_all[\"id\"]\n",
    "    ex_all = []    \n",
    "       \n",
    "    for exchange_id in exchanges_list:\n",
    "        found_match = get_curr_exchange(exchange_id, base_curr, target_curr)\n",
    "        if found_match == \"\":\n",
    "            continue\n",
    "        else:\n",
    "            temp_dict = dict(\n",
    "                             exchange = exchange_id,\n",
    "                             last_price = found_match[\"last\"],\n",
    "                             last_vol   = found_match[\"volume\"],\n",
    "                             spread     = found_match[\"bid_ask_spread_percentage\"],\n",
    "                             trade_time = convert_to_local_tz(found_match[\"last_traded_at\"])\n",
    "                             )\n",
    "            ex_all.append(temp_dict)\n",
    "            \n",
    "    return pd.DataFrame(ex_all)   "
   ]
  },
  {
   "cell_type": "code",
   "execution_count": 194,
   "id": "8fcb655a-f1aa-457d-a459-5b5228f8260d",
   "metadata": {
    "tags": []
   },
   "outputs": [
    {
     "name": "stderr",
     "output_type": "stream",
     "text": [
      "/tmp/ipykernel_25321/2761537337.py:16: UserWarning: No data found for BTC-USDT pair in itbit\n",
      "  warnings.warn(f\"No data found for {base_curr}-{target_curr} pair in {id}\")\n",
      "/tmp/ipykernel_25321/2761537337.py:16: UserWarning: No data found for BTC-USDT pair in metalx\n",
      "  warnings.warn(f\"No data found for {base_curr}-{target_curr} pair in {id}\")\n"
     ]
    },
    {
     "data": {
      "text/html": [
       "<div>\n",
       "<style scoped>\n",
       "    .dataframe tbody tr th:only-of-type {\n",
       "        vertical-align: middle;\n",
       "    }\n",
       "\n",
       "    .dataframe tbody tr th {\n",
       "        vertical-align: top;\n",
       "    }\n",
       "\n",
       "    .dataframe thead th {\n",
       "        text-align: right;\n",
       "    }\n",
       "</style>\n",
       "<table border=\"1\" class=\"dataframe\">\n",
       "  <thead>\n",
       "    <tr style=\"text-align: right;\">\n",
       "      <th></th>\n",
       "      <th>exchange</th>\n",
       "      <th>last_price</th>\n",
       "      <th>last_vol</th>\n",
       "      <th>spread</th>\n",
       "      <th>trade_time</th>\n",
       "    </tr>\n",
       "  </thead>\n",
       "  <tbody>\n",
       "    <tr>\n",
       "      <th>0</th>\n",
       "      <td>gdax</td>\n",
       "      <td>61042.53</td>\n",
       "      <td>1368.505541</td>\n",
       "      <td>0.019417</td>\n",
       "      <td>2024-06-29 14:48:02+02:00</td>\n",
       "    </tr>\n",
       "    <tr>\n",
       "      <th>1</th>\n",
       "      <td>tapbit</td>\n",
       "      <td>61051.97</td>\n",
       "      <td>6682.208800</td>\n",
       "      <td>0.010016</td>\n",
       "      <td>2024-06-29 14:48:33+02:00</td>\n",
       "    </tr>\n",
       "    <tr>\n",
       "      <th>2</th>\n",
       "      <td>kraken</td>\n",
       "      <td>61058.70</td>\n",
       "      <td>74.463866</td>\n",
       "      <td>0.010164</td>\n",
       "      <td>2024-06-29 14:49:02+02:00</td>\n",
       "    </tr>\n",
       "    <tr>\n",
       "      <th>3</th>\n",
       "      <td>gemini</td>\n",
       "      <td>61132.66</td>\n",
       "      <td>1.616248</td>\n",
       "      <td>0.023160</td>\n",
       "      <td>2024-06-29 14:18:02+02:00</td>\n",
       "    </tr>\n",
       "    <tr>\n",
       "      <th>4</th>\n",
       "      <td>binance_us</td>\n",
       "      <td>61058.19</td>\n",
       "      <td>22.039947</td>\n",
       "      <td>0.060537</td>\n",
       "      <td>2024-06-29 14:51:06+02:00</td>\n",
       "    </tr>\n",
       "    <tr>\n",
       "      <th>5</th>\n",
       "      <td>coinlist</td>\n",
       "      <td>61045.83</td>\n",
       "      <td>0.824200</td>\n",
       "      <td>0.050453</td>\n",
       "      <td>2024-06-29 14:49:03+02:00</td>\n",
       "    </tr>\n",
       "  </tbody>\n",
       "</table>\n",
       "</div>"
      ],
      "text/plain": [
       "     exchange  last_price     last_vol    spread                trade_time\n",
       "0        gdax    61042.53  1368.505541  0.019417 2024-06-29 14:48:02+02:00\n",
       "1      tapbit    61051.97  6682.208800  0.010016 2024-06-29 14:48:33+02:00\n",
       "2      kraken    61058.70    74.463866  0.010164 2024-06-29 14:49:02+02:00\n",
       "3      gemini    61132.66     1.616248  0.023160 2024-06-29 14:18:02+02:00\n",
       "4  binance_us    61058.19    22.039947  0.060537 2024-06-29 14:51:06+02:00\n",
       "5    coinlist    61045.83     0.824200  0.050453 2024-06-29 14:49:03+02:00"
      ]
     },
     "execution_count": 194,
     "metadata": {},
     "output_type": "execute_result"
    }
   ],
   "source": [
    "df_ex_all = get_curr_all_exchanges(\"United States\", \"BTC\", \"USDT\")\n",
    "df_ex_all"
   ]
  },
  {
   "cell_type": "markdown",
   "id": "e5301802-ef78-4a52-8ab4-a06829c95947",
   "metadata": {
    "tags": []
   },
   "source": [
    "## Collect and display data over a period of time"
   ]
  },
  {
   "cell_type": "code",
   "execution_count": 200,
   "id": "15a13c57-1de4-4b89-8269-51ba1a74a5c0",
   "metadata": {
    "tags": []
   },
   "outputs": [],
   "source": [
    "def display_agg_per_exchange(df_ex_all):\n",
    "    \n",
    "    # Group data and calculate statistics per exchange    \n",
    "    df_agg = (\n",
    "        df_ex_all.groupby(\"exchange\").agg\n",
    "        (        \n",
    "            trade_time_min = (\"trade_time\", 'min'),\n",
    "            trade_time_latest = (\"trade_time\", 'max'),\n",
    "            last_price_mean = (\"last_price\", 'mean'),\n",
    "            last_vol_mean = (\"last_vol\", 'mean'),\n",
    "            spread_mean = (\"spread\", 'mean'),\n",
    "            num_trades = (\"last_price\", 'count')\n",
    "        )\n",
    "    )\n",
    "    \n",
    "    # Get time interval over which statistics have been calculated    \n",
    "    df_agg[\"trade_time_duration\"] = df_agg[\"trade_time_latest\"] - df_agg[\"trade_time_min\"]\n",
    "    \n",
    "    # Remove redundant column\n",
    "    df_agg = df_agg.drop(columns = [\"trade_time_min\"])\n",
    "    \n",
    "    with pd.option_context('display.precision', 2,\n",
    "                           'display.colheader_justify', 'center'):\n",
    "        \n",
    "        display(df_agg.style.apply(highlight_max_min,\n",
    "                                   color = 'green',\n",
    "                                   subset = \"last_price_mean\")\n",
    "               )\n",
    "    \n",
    "    return None    "
   ]
  },
  {
   "cell_type": "code",
   "execution_count": 213,
   "id": "73ec2199-2c89-434e-99cb-49806fe36cce",
   "metadata": {
    "tags": []
   },
   "outputs": [],
   "source": [
    "def highlight_max_min(x, color):\n",
    "    \n",
    "    return np.where((x == np.nanmax(x.to_numpy())) |\n",
    "                    (x == np.nanmin(x.to_numpy())),\n",
    "                    f\"color: {color};\",\n",
    "                    None)"
   ]
  },
  {
   "cell_type": "code",
   "execution_count": 214,
   "id": "35810c8d-817b-457b-9f26-69b6d6e97e21",
   "metadata": {
    "tags": []
   },
   "outputs": [
    {
     "data": {
      "text/html": [
       "<style type=\"text/css\">\n",
       "#T_cbcdc_row2_col1, #T_cbcdc_row3_col1 {\n",
       "  color: green;\n",
       "}\n",
       "</style>\n",
       "<table id=\"T_cbcdc\">\n",
       "  <thead>\n",
       "    <tr>\n",
       "      <th class=\"blank level0\" >&nbsp;</th>\n",
       "      <th id=\"T_cbcdc_level0_col0\" class=\"col_heading level0 col0\" >trade_time_latest</th>\n",
       "      <th id=\"T_cbcdc_level0_col1\" class=\"col_heading level0 col1\" >last_price_mean</th>\n",
       "      <th id=\"T_cbcdc_level0_col2\" class=\"col_heading level0 col2\" >last_vol_mean</th>\n",
       "      <th id=\"T_cbcdc_level0_col3\" class=\"col_heading level0 col3\" >spread_mean</th>\n",
       "      <th id=\"T_cbcdc_level0_col4\" class=\"col_heading level0 col4\" >num_trades</th>\n",
       "      <th id=\"T_cbcdc_level0_col5\" class=\"col_heading level0 col5\" >trade_time_duration</th>\n",
       "    </tr>\n",
       "    <tr>\n",
       "      <th class=\"index_name level0\" >exchange</th>\n",
       "      <th class=\"blank col0\" >&nbsp;</th>\n",
       "      <th class=\"blank col1\" >&nbsp;</th>\n",
       "      <th class=\"blank col2\" >&nbsp;</th>\n",
       "      <th class=\"blank col3\" >&nbsp;</th>\n",
       "      <th class=\"blank col4\" >&nbsp;</th>\n",
       "      <th class=\"blank col5\" >&nbsp;</th>\n",
       "    </tr>\n",
       "  </thead>\n",
       "  <tbody>\n",
       "    <tr>\n",
       "      <th id=\"T_cbcdc_level0_row0\" class=\"row_heading level0 row0\" >binance_us</th>\n",
       "      <td id=\"T_cbcdc_row0_col0\" class=\"data row0 col0\" >2024-06-29 14:51:06+02:00</td>\n",
       "      <td id=\"T_cbcdc_row0_col1\" class=\"data row0 col1\" >61058.190000</td>\n",
       "      <td id=\"T_cbcdc_row0_col2\" class=\"data row0 col2\" >22.039947</td>\n",
       "      <td id=\"T_cbcdc_row0_col3\" class=\"data row0 col3\" >0.060537</td>\n",
       "      <td id=\"T_cbcdc_row0_col4\" class=\"data row0 col4\" >1</td>\n",
       "      <td id=\"T_cbcdc_row0_col5\" class=\"data row0 col5\" >0 days 00:00:00</td>\n",
       "    </tr>\n",
       "    <tr>\n",
       "      <th id=\"T_cbcdc_level0_row1\" class=\"row_heading level0 row1\" >coinlist</th>\n",
       "      <td id=\"T_cbcdc_row1_col0\" class=\"data row1 col0\" >2024-06-29 14:49:03+02:00</td>\n",
       "      <td id=\"T_cbcdc_row1_col1\" class=\"data row1 col1\" >61045.830000</td>\n",
       "      <td id=\"T_cbcdc_row1_col2\" class=\"data row1 col2\" >0.824200</td>\n",
       "      <td id=\"T_cbcdc_row1_col3\" class=\"data row1 col3\" >0.050453</td>\n",
       "      <td id=\"T_cbcdc_row1_col4\" class=\"data row1 col4\" >1</td>\n",
       "      <td id=\"T_cbcdc_row1_col5\" class=\"data row1 col5\" >0 days 00:00:00</td>\n",
       "    </tr>\n",
       "    <tr>\n",
       "      <th id=\"T_cbcdc_level0_row2\" class=\"row_heading level0 row2\" >gdax</th>\n",
       "      <td id=\"T_cbcdc_row2_col0\" class=\"data row2 col0\" >2024-06-29 14:48:02+02:00</td>\n",
       "      <td id=\"T_cbcdc_row2_col1\" class=\"data row2 col1\" >61042.530000</td>\n",
       "      <td id=\"T_cbcdc_row2_col2\" class=\"data row2 col2\" >1368.505541</td>\n",
       "      <td id=\"T_cbcdc_row2_col3\" class=\"data row2 col3\" >0.019417</td>\n",
       "      <td id=\"T_cbcdc_row2_col4\" class=\"data row2 col4\" >1</td>\n",
       "      <td id=\"T_cbcdc_row2_col5\" class=\"data row2 col5\" >0 days 00:00:00</td>\n",
       "    </tr>\n",
       "    <tr>\n",
       "      <th id=\"T_cbcdc_level0_row3\" class=\"row_heading level0 row3\" >gemini</th>\n",
       "      <td id=\"T_cbcdc_row3_col0\" class=\"data row3 col0\" >2024-06-29 14:18:02+02:00</td>\n",
       "      <td id=\"T_cbcdc_row3_col1\" class=\"data row3 col1\" >61132.660000</td>\n",
       "      <td id=\"T_cbcdc_row3_col2\" class=\"data row3 col2\" >1.616248</td>\n",
       "      <td id=\"T_cbcdc_row3_col3\" class=\"data row3 col3\" >0.023160</td>\n",
       "      <td id=\"T_cbcdc_row3_col4\" class=\"data row3 col4\" >1</td>\n",
       "      <td id=\"T_cbcdc_row3_col5\" class=\"data row3 col5\" >0 days 00:00:00</td>\n",
       "    </tr>\n",
       "    <tr>\n",
       "      <th id=\"T_cbcdc_level0_row4\" class=\"row_heading level0 row4\" >kraken</th>\n",
       "      <td id=\"T_cbcdc_row4_col0\" class=\"data row4 col0\" >2024-06-29 14:49:02+02:00</td>\n",
       "      <td id=\"T_cbcdc_row4_col1\" class=\"data row4 col1\" >61058.700000</td>\n",
       "      <td id=\"T_cbcdc_row4_col2\" class=\"data row4 col2\" >74.463866</td>\n",
       "      <td id=\"T_cbcdc_row4_col3\" class=\"data row4 col3\" >0.010164</td>\n",
       "      <td id=\"T_cbcdc_row4_col4\" class=\"data row4 col4\" >1</td>\n",
       "      <td id=\"T_cbcdc_row4_col5\" class=\"data row4 col5\" >0 days 00:00:00</td>\n",
       "    </tr>\n",
       "    <tr>\n",
       "      <th id=\"T_cbcdc_level0_row5\" class=\"row_heading level0 row5\" >tapbit</th>\n",
       "      <td id=\"T_cbcdc_row5_col0\" class=\"data row5 col0\" >2024-06-29 14:48:33+02:00</td>\n",
       "      <td id=\"T_cbcdc_row5_col1\" class=\"data row5 col1\" >61051.970000</td>\n",
       "      <td id=\"T_cbcdc_row5_col2\" class=\"data row5 col2\" >6682.208800</td>\n",
       "      <td id=\"T_cbcdc_row5_col3\" class=\"data row5 col3\" >0.010016</td>\n",
       "      <td id=\"T_cbcdc_row5_col4\" class=\"data row5 col4\" >1</td>\n",
       "      <td id=\"T_cbcdc_row5_col5\" class=\"data row5 col5\" >0 days 00:00:00</td>\n",
       "    </tr>\n",
       "  </tbody>\n",
       "</table>\n"
      ],
      "text/plain": [
       "<pandas.io.formats.style.Styler at 0x7fd7350c78b0>"
      ]
     },
     "metadata": {},
     "output_type": "display_data"
    }
   ],
   "source": [
    "display_agg_per_exchange(df_ex_all)"
   ]
  },
  {
   "cell_type": "code",
   "execution_count": 188,
   "id": "6fa2cf2f-c98d-4b0a-837e-c5b9904ace83",
   "metadata": {
    "tags": []
   },
   "outputs": [],
   "source": [
    "def run_data_bot(country,\n",
    "                 base_curr,\n",
    "                 target_curr):\n",
    "    \n",
    "    df_ex_all = get_curr_all_exchanges(country, base_curr, target_curr)\n",
    "    \n",
    "    # Collect data every minute    \n",
    "    while True:\n",
    "        time.sleep(60)\n",
    "        df_new = get_curr_all_exchanges(country, base_curr, target_curr)\n",
    "        \n",
    "        # Merge to existing DataFrame\n",
    "        df_ex_all = pd.concat([df_ex_all, df_new])\n",
    "        \n",
    "        # Remove duplicate rows based on all columns\n",
    "        df_ex_all = df_ex_all.drop_duplicates()\n",
    "        \n",
    "        # Clear previous display once new one is available\n",
    "        clear_output(wait = True)\n",
    "        display_agg_per_exchange(df_ex_all)        \n",
    "        \n",
    "    return None        "
   ]
  },
  {
   "cell_type": "code",
   "execution_count": 193,
   "id": "1f655b4b-8cff-483a-9dfd-f8f975be8acd",
   "metadata": {
    "tags": []
   },
   "outputs": [],
   "source": [
    "#run_data_bot(\"United States\", \"BTC\", \"USDT\")"
   ]
  },
  {
   "cell_type": "code",
   "execution_count": null,
   "id": "27cefa01-7a6b-4db6-aa38-4bcbf49799f5",
   "metadata": {},
   "outputs": [],
   "source": []
  }
 ],
 "metadata": {
  "kernelspec": {
   "display_name": "Python 3 (ipykernel)",
   "language": "python",
   "name": "python3"
  },
  "language_info": {
   "codemirror_mode": {
    "name": "ipython",
    "version": 3
   },
   "file_extension": ".py",
   "mimetype": "text/x-python",
   "name": "python",
   "nbconvert_exporter": "python",
   "pygments_lexer": "ipython3",
   "version": "3.10.12"
  }
 },
 "nbformat": 4,
 "nbformat_minor": 5
}
