{
 "cells": [
  {
   "cell_type": "code",
   "execution_count": 71,
   "id": "1d801c09-de47-4f8c-92b5-670d67ff0929",
   "metadata": {},
   "outputs": [],
   "source": [
    "import requests as rq\n",
    "import json\n",
    "import pandas as pd\n",
    "pd.set_option('display.precision', 4,\n",
    "              'display.colheader_justify', 'center')\n",
    "import numpy as np\n",
    "import warnings\n",
    "import pytz\n",
    "import datetime\n",
    "import time\n",
    "from IPython.display import clear_output\n",
    "\n",
    "from sqlalchemy import create_engine"
   ]
  },
  {
   "cell_type": "code",
   "execution_count": 2,
   "id": "d5822979-66da-40ea-b332-02406889f7af",
   "metadata": {
    "tags": []
   },
   "outputs": [],
   "source": [
    "# Get demo API key\n",
    "def get_demo_key():\n",
    "    f = open(\"/home/vikas/Documents/CG_demo_key.json\")\n",
    "    key_dict = json.load(f)\n",
    "    return key_dict[\"key\"] "
   ]
  },
  {
   "cell_type": "code",
   "execution_count": 3,
   "id": "24c4970f-edab-4230-92d7-3e86817a7306",
   "metadata": {
    "tags": []
   },
   "outputs": [],
   "source": [
    "use_demo = {\n",
    "           \"accept\": \"application/json\",\n",
    "           \"x-cg-demo-api-key\" : get_demo_key() \n",
    "}"
   ]
  },
  {
   "cell_type": "code",
   "execution_count": 4,
   "id": "fe956037-3b40-4c7e-9692-ce02cb5e0a9e",
   "metadata": {
    "tags": []
   },
   "outputs": [],
   "source": [
    "# Get pro API key\n",
    "def get_pro_key():\n",
    "    f = open(\"/home/vikas/Documents/CG_pro_key.json\")\n",
    "    key_dict = json.load(f)\n",
    "    return key_dict[\"key\"] "
   ]
  },
  {
   "cell_type": "markdown",
   "id": "3168b778-e957-43d2-a13a-d6fe23063e78",
   "metadata": {},
   "source": [
    "## Get list of exchanges"
   ]
  },
  {
   "cell_type": "code",
   "execution_count": 5,
   "id": "b8f31ae7-2c7c-4d0c-bdb6-d8e51484907d",
   "metadata": {
    "tags": []
   },
   "outputs": [],
   "source": [
    "PUB_URL = \"https://api.coingecko.com/api/v3\"\n",
    "PRO_URL = \"https://pro-api.coingecko.com/api/v3\""
   ]
  },
  {
   "cell_type": "code",
   "execution_count": 6,
   "id": "58f7a142-1261-4b71-be45-9dfdb7dba06f",
   "metadata": {
    "tags": []
   },
   "outputs": [],
   "source": [
    "def get_response(endpoint, headers, params, URL):\n",
    "    url = \"\".join((URL, endpoint))\n",
    "    response = rq.get(url, headers = headers, params = params)\n",
    "    if response.status_code == 200:\n",
    "        data = response.json()\n",
    "        return data\n",
    "    else:\n",
    "        print(f\"Failed to fetch data, check status code {response.status_code}\")    "
   ]
  },
  {
   "cell_type": "code",
   "execution_count": 7,
   "id": "2d033e73-c8f9-48f7-b548-7f98e6226b18",
   "metadata": {
    "tags": []
   },
   "outputs": [],
   "source": [
    "# Valid values for results per page is between 1-250\n",
    "exchange_params = {\n",
    "            \"per_page\": 250,\n",
    "            \"page\": 1\n",
    "}"
   ]
  },
  {
   "cell_type": "code",
   "execution_count": 8,
   "id": "0f41ea48-0897-4c9d-9a08-62ef5b76b620",
   "metadata": {},
   "outputs": [],
   "source": [
    "exchange_list_response = get_response(\"/exchanges\", use_demo, exchange_params, PUB_URL)"
   ]
  },
  {
   "cell_type": "markdown",
   "id": "51d688eb-e137-40f9-a773-5eb46750f627",
   "metadata": {},
   "source": [
    "#### List exchanges by trading volume"
   ]
  },
  {
   "cell_type": "code",
   "execution_count": 9,
   "id": "4b2902da-f2b8-4f7e-8d38-890adcf02914",
   "metadata": {
    "tags": []
   },
   "outputs": [],
   "source": [
    "df_ex = pd.DataFrame(exchange_list_response)\n",
    "df_ex_subset = df_ex[[\"id\", \"name\", \"country\", \"trade_volume_24h_btc\"]]\n",
    "df_ex_subset = df_ex_subset.sort_values(by = [\"trade_volume_24h_btc\"], ascending = False)"
   ]
  },
  {
   "cell_type": "code",
   "execution_count": 10,
   "id": "4b31b37b-f431-4331-870a-7c581f0263c2",
   "metadata": {
    "tags": []
   },
   "outputs": [
    {
     "data": {
      "text/plain": [
       "array(['Cayman Islands', 'British Virgin Islands', 'Malta', 'Seychelles',\n",
       "       'Lithuania', 'United States', 'United Arab Emirates', 'Gibraltar',\n",
       "       'Singapore', 'Australia', None, 'South Korea', 'Marshall Islands',\n",
       "       'Bahamas', 'Spain', 'Belize', 'Luxembourg', 'Samoa', 'Netherlands',\n",
       "       'Costa Rica', 'Turkey', 'Saint Vincent and the Grenadines',\n",
       "       'Argentina', 'Japan', 'Vanuatu', 'Bermuda', 'United Kingdom',\n",
       "       'Hong Kong', 'Thailand', 'India', 'Taiwan', 'Brazil', 'Panama',\n",
       "       'Indonesia', 'Switzerland', 'Unknown or Invalid Region',\n",
       "       'Philippines', 'South Africa', 'Estonia', 'Georgia', 'Jamaica',\n",
       "       'Slovenia'], dtype=object)"
      ]
     },
     "execution_count": 10,
     "metadata": {},
     "output_type": "execute_result"
    }
   ],
   "source": [
    "df_ex_subset[\"country\"].unique()"
   ]
  },
  {
   "cell_type": "code",
   "execution_count": 11,
   "id": "6a0140b8-1420-474c-a0e3-7036416dfb49",
   "metadata": {
    "tags": []
   },
   "outputs": [],
   "source": [
    "#df_ex_subset[(df_ex_subset[\"country\"] == \"United States\")]"
   ]
  },
  {
   "cell_type": "markdown",
   "id": "4572ed62-d4f2-4f52-b998-b7e3fd4ec6f4",
   "metadata": {
    "tags": []
   },
   "source": [
    "## Get exchange tickers"
   ]
  },
  {
   "cell_type": "code",
   "execution_count": 12,
   "id": "d30f033e-66a5-488b-b64d-c959439febe1",
   "metadata": {
    "tags": []
   },
   "outputs": [],
   "source": [
    "def get_trade_exchange(id, base_curr, target_curr):\n",
    "    \n",
    "    exchange_ticker_response = get_response(f\"/exchanges/{id}/tickers\",\n",
    "                                            use_demo,\n",
    "                                            {},\n",
    "                                            PUB_URL)\n",
    "    \n",
    "    found_match = \"\"\n",
    "    \n",
    "    for ticker in exchange_ticker_response[\"tickers\"]:\n",
    "        if ticker[\"base\"] == base_curr and ticker[\"target\"] == target_curr:\n",
    "            found_match = ticker\n",
    "            break\n",
    "            \n",
    "    if found_match == \"\":\n",
    "        warnings.warn(f\"No data found for {base_curr}-{target_curr} pair in {id}\")\n",
    "    \n",
    "    return found_match"
   ]
  },
  {
   "cell_type": "code",
   "execution_count": 13,
   "id": "d0fdb80d-0b73-44dd-95fe-fe9a7f1cd264",
   "metadata": {
    "tags": []
   },
   "outputs": [
    {
     "data": {
      "text/plain": [
       "{'base': 'ETH',\n",
       " 'target': 'EUR',\n",
       " 'market': {'name': 'Coinbase Exchange',\n",
       "  'identifier': 'gdax',\n",
       "  'has_trading_incentive': False},\n",
       " 'last': 2068.15,\n",
       " 'volume': 2886.05801067,\n",
       " 'converted_last': {'btc': 0.04220778, 'eth': 1.002308, 'usd': 2293.61},\n",
       " 'converted_volume': {'btc': 121.814, 'eth': 2893, 'usd': 6619497},\n",
       " 'trust_score': 'green',\n",
       " 'bid_ask_spread_percentage': 0.028046,\n",
       " 'timestamp': '2024-09-07T20:09:43+00:00',\n",
       " 'last_traded_at': '2024-09-07T20:09:43+00:00',\n",
       " 'last_fetch_at': '2024-09-07T20:09:43+00:00',\n",
       " 'is_anomaly': False,\n",
       " 'is_stale': False,\n",
       " 'trade_url': 'https://www.coinbase.com/advanced-trade/spot/ETH-EUR',\n",
       " 'token_info_url': None,\n",
       " 'coin_id': 'ethereum'}"
      ]
     },
     "execution_count": 13,
     "metadata": {},
     "output_type": "execute_result"
    }
   ],
   "source": [
    "test_data = get_trade_exchange(\"gdax\", \"ETH\", \"EUR\")\n",
    "test_data"
   ]
  },
  {
   "cell_type": "markdown",
   "id": "32016045-5ffa-4531-8737-0f62904c9579",
   "metadata": {
    "tags": []
   },
   "source": [
    "## Convert to local timezone"
   ]
  },
  {
   "cell_type": "code",
   "execution_count": 14,
   "id": "1b92046a-ee9d-4d23-9208-6bfc474e54ea",
   "metadata": {
    "tags": []
   },
   "outputs": [],
   "source": [
    "def convert_to_local_tz(old_ts):\n",
    "    \n",
    "    new_tz = pytz.timezone(\"Europe/Amsterdam\")\n",
    "    old_tz = pytz.timezone(\"UTC\")\n",
    "    \n",
    "    format = \"%Y-%m-%dT%H:%M:%S+00:00\"\n",
    "    datetime_obj = datetime.datetime.strptime(old_ts, format)\n",
    "    \n",
    "    localized_ts = old_tz.localize(datetime_obj)\n",
    "    new_ts = localized_ts.astimezone(new_tz)\n",
    "    \n",
    "    return new_ts   "
   ]
  },
  {
   "cell_type": "markdown",
   "id": "b5614713-dd0a-4503-a3a1-b93490411c3f",
   "metadata": {
    "tags": []
   },
   "source": [
    "## Collect data for multiple exchanges based on country"
   ]
  },
  {
   "cell_type": "code",
   "execution_count": 15,
   "id": "c22e72b7-c968-4824-a7fc-9517ec8990d9",
   "metadata": {
    "tags": []
   },
   "outputs": [],
   "source": [
    "def get_trade_exchange_per_country(country,\n",
    "                                   base_curr,\n",
    "                                   target_curr):\n",
    "    \n",
    "    df_all = df_ex_subset[(df_ex_subset[\"country\"] == country)]    \n",
    "    \n",
    "    exchanges_list = df_all[\"id\"]\n",
    "    ex_all = []    \n",
    "       \n",
    "    for exchange_id in exchanges_list:\n",
    "        found_match = get_trade_exchange(exchange_id, base_curr, target_curr)\n",
    "        if found_match == \"\":\n",
    "            continue\n",
    "        else:\n",
    "            temp_dict = dict(\n",
    "                             exchange = exchange_id,\n",
    "                             last_price = found_match[\"last\"],\n",
    "                             last_vol   = found_match[\"volume\"],\n",
    "                             spread     = found_match[\"bid_ask_spread_percentage\"],\n",
    "                             trade_time = convert_to_local_tz(found_match[\"last_traded_at\"])\n",
    "                             )\n",
    "            ex_all.append(temp_dict)\n",
    "            \n",
    "    return pd.DataFrame(ex_all)   "
   ]
  },
  {
   "cell_type": "code",
   "execution_count": 16,
   "id": "8fcb655a-f1aa-457d-a459-5b5228f8260d",
   "metadata": {
    "tags": []
   },
   "outputs": [
    {
     "name": "stderr",
     "output_type": "stream",
     "text": [
      "/tmp/ipykernel_19500/3109473306.py:16: UserWarning: No data found for ETH-EUR pair in tapbit\n",
      "  warnings.warn(f\"No data found for {base_curr}-{target_curr} pair in {id}\")\n",
      "/tmp/ipykernel_19500/3109473306.py:16: UserWarning: No data found for ETH-EUR pair in kraken\n",
      "  warnings.warn(f\"No data found for {base_curr}-{target_curr} pair in {id}\")\n",
      "/tmp/ipykernel_19500/3109473306.py:16: UserWarning: No data found for ETH-EUR pair in itbit\n",
      "  warnings.warn(f\"No data found for {base_curr}-{target_curr} pair in {id}\")\n",
      "/tmp/ipykernel_19500/3109473306.py:16: UserWarning: No data found for ETH-EUR pair in binance_us\n",
      "  warnings.warn(f\"No data found for {base_curr}-{target_curr} pair in {id}\")\n",
      "/tmp/ipykernel_19500/3109473306.py:16: UserWarning: No data found for ETH-EUR pair in metalx\n",
      "  warnings.warn(f\"No data found for {base_curr}-{target_curr} pair in {id}\")\n",
      "/tmp/ipykernel_19500/3109473306.py:16: UserWarning: No data found for ETH-EUR pair in oku-trade-taiko\n",
      "  warnings.warn(f\"No data found for {base_curr}-{target_curr} pair in {id}\")\n",
      "/tmp/ipykernel_19500/3109473306.py:16: UserWarning: No data found for ETH-EUR pair in oku-trade-linea\n",
      "  warnings.warn(f\"No data found for {base_curr}-{target_curr} pair in {id}\")\n",
      "/tmp/ipykernel_19500/3109473306.py:16: UserWarning: No data found for ETH-EUR pair in coinlist\n",
      "  warnings.warn(f\"No data found for {base_curr}-{target_curr} pair in {id}\")\n"
     ]
    },
    {
     "data": {
      "text/html": [
       "<div>\n",
       "<style scoped>\n",
       "    .dataframe tbody tr th:only-of-type {\n",
       "        vertical-align: middle;\n",
       "    }\n",
       "\n",
       "    .dataframe tbody tr th {\n",
       "        vertical-align: top;\n",
       "    }\n",
       "\n",
       "    .dataframe thead th {\n",
       "        text-align: right;\n",
       "    }\n",
       "</style>\n",
       "<table border=\"1\" class=\"dataframe\">\n",
       "  <thead>\n",
       "    <tr style=\"text-align: center;\">\n",
       "      <th></th>\n",
       "      <th>exchange</th>\n",
       "      <th>last_price</th>\n",
       "      <th>last_vol</th>\n",
       "      <th>spread</th>\n",
       "      <th>trade_time</th>\n",
       "    </tr>\n",
       "  </thead>\n",
       "  <tbody>\n",
       "    <tr>\n",
       "      <th>0</th>\n",
       "      <td>gdax</td>\n",
       "      <td>2068.15</td>\n",
       "      <td>2886.0580</td>\n",
       "      <td>0.0280</td>\n",
       "      <td>2024-09-07 22:09:43+02:00</td>\n",
       "    </tr>\n",
       "    <tr>\n",
       "      <th>1</th>\n",
       "      <td>gemini</td>\n",
       "      <td>2070.89</td>\n",
       "      <td>13.0046</td>\n",
       "      <td>0.0227</td>\n",
       "      <td>2024-09-07 22:03:15+02:00</td>\n",
       "    </tr>\n",
       "  </tbody>\n",
       "</table>\n",
       "</div>"
      ],
      "text/plain": [
       "  exchange  last_price  last_vol   spread         trade_time       \n",
       "0    gdax     2068.15   2886.0580  0.0280 2024-09-07 22:09:43+02:00\n",
       "1  gemini     2070.89     13.0046  0.0227 2024-09-07 22:03:15+02:00"
      ]
     },
     "execution_count": 16,
     "metadata": {},
     "output_type": "execute_result"
    }
   ],
   "source": [
    "df_ex_all = get_trade_exchange_per_country(\"United States\", \"ETH\", \"EUR\")\n",
    "df_ex_all"
   ]
  },
  {
   "cell_type": "markdown",
   "id": "ec9a81ca-5586-49ba-96bc-80562882a5f3",
   "metadata": {
    "jp-MarkdownHeadingCollapsed": true,
    "tags": []
   },
   "source": [
    "## Get exchange rates"
   ]
  },
  {
   "cell_type": "code",
   "execution_count": 17,
   "id": "c205e35e-6234-4544-9357-95f051a01095",
   "metadata": {
    "tags": []
   },
   "outputs": [],
   "source": [
    "def get_exchange_rate(base_curr):\n",
    "    \n",
    "    # This returns current BTC to base_curr exchange rate    \n",
    "    exchange_rate_response = get_response(f\"/exchange_rates\",\n",
    "                                          use_demo,\n",
    "                                          {},\n",
    "                                          PUB_URL)\n",
    "    rate = \"\"\n",
    "    try:\n",
    "        rate = exchange_rate_response[\"rates\"][base_curr.lower()][\"value\"]\n",
    "    except KeyError as ke:\n",
    "        print(\"Currency not found in the exchange rate API response:\", ke)\n",
    "        \n",
    "    return rate    "
   ]
  },
  {
   "cell_type": "code",
   "execution_count": 18,
   "id": "7334bf5b-c8bf-490b-bb14-f02bd4e81dfb",
   "metadata": {
    "tags": []
   },
   "outputs": [
    {
     "data": {
      "text/plain": [
       "23.75"
      ]
     },
     "execution_count": 18,
     "metadata": {},
     "output_type": "execute_result"
    }
   ],
   "source": [
    "get_exchange_rate(\"ETH\")"
   ]
  },
  {
   "cell_type": "markdown",
   "id": "b34d43a3-8ef1-4b50-811c-ae3b016708c9",
   "metadata": {
    "jp-MarkdownHeadingCollapsed": true,
    "tags": []
   },
   "source": [
    "## Get historical volume data"
   ]
  },
  {
   "cell_type": "code",
   "execution_count": 19,
   "id": "26832e1c-e802-46cc-ac8c-5b7bb60f63db",
   "metadata": {
    "tags": []
   },
   "outputs": [],
   "source": [
    "def get_vol_exchange(id, days, base_curr):\n",
    "    \n",
    "    vol_params = {\"days\": days}\n",
    "    \n",
    "    exchange_vol_response = get_response(f\"/exchanges/{id}/volume_chart\",\n",
    "                                         use_demo,\n",
    "                                         vol_params,\n",
    "                                         PUB_URL)\n",
    "    \n",
    "    time, volume = [], []\n",
    "    \n",
    "    # Get exchange rate when base_curr is not BTC\n",
    "    ex_rate = 1.0\n",
    "    if base_curr != \"BTC\":\n",
    "        ex_rate = get_exchange_rate(base_curr)\n",
    "        \n",
    "        # Give a warning when exchange rate is not found\n",
    "        if ex_rate == \"\":\n",
    "            print(f\"Unable to find exchange rate for {base_curr}, vol will be reported in BTC\")\n",
    "            ex_rate = 1.0\n",
    "    \n",
    "    for i in range(len(exchange_vol_response)):\n",
    "        # Convert to seconds\n",
    "        s = exchange_vol_response[i][0] / 1000\n",
    "        time.append(datetime.datetime.fromtimestamp(s).strftime('%Y-%m-%d'))\n",
    "        \n",
    "        # Default unit for volume is BTC\n",
    "        volume.append(float(exchange_vol_response[i][1]) * ex_rate)\n",
    "                      \n",
    "    df_vol = pd.DataFrame(list(zip(time, volume)), columns = [\"date\", \"volume\"])\n",
    "    \n",
    "    # Calculate SMA for a specific window\n",
    "    df_vol[\"volume_SMA\"] = df_vol[\"volume\"].rolling(7).mean()\n",
    "    \n",
    "    return df_vol.sort_values(by = [\"date\"], ascending = False).reset_index(drop = True)"
   ]
  },
  {
   "cell_type": "code",
   "execution_count": 20,
   "id": "e519dad1-7275-4986-b7c8-372c91d56598",
   "metadata": {
    "tags": []
   },
   "outputs": [],
   "source": [
    "#get_vol_exchange(\"kraken\", 30, \"BTC\")"
   ]
  },
  {
   "cell_type": "markdown",
   "id": "e5301802-ef78-4a52-8ab4-a06829c95947",
   "metadata": {
    "jp-MarkdownHeadingCollapsed": true,
    "tags": []
   },
   "source": [
    "## Collect and display aggregate per exchange"
   ]
  },
  {
   "cell_type": "code",
   "execution_count": 21,
   "id": "15a13c57-1de4-4b89-8269-51ba1a74a5c0",
   "metadata": {
    "tags": []
   },
   "outputs": [],
   "source": [
    "def display_agg_per_exchange(df_ex_all, base_curr):\n",
    "    \n",
    "    # Group data and calculate statistics per exchange    \n",
    "    df_agg = (\n",
    "        df_ex_all.groupby(\"exchange\").agg\n",
    "        (        \n",
    "            trade_time_min = (\"trade_time\", 'min'),\n",
    "            trade_time_latest = (\"trade_time\", 'max'),\n",
    "            last_price_mean = (\"last_price\", 'mean'),\n",
    "            last_vol_mean = (\"last_vol\", 'mean'),\n",
    "            spread_mean = (\"spread\", 'mean'),\n",
    "            num_trades = (\"last_price\", 'count')\n",
    "        )\n",
    "    )\n",
    "    \n",
    "    # Get time interval over which statistics have been calculated    \n",
    "    df_agg[\"trade_time_duration\"] = df_agg[\"trade_time_latest\"] - df_agg[\"trade_time_min\"]\n",
    "    \n",
    "    # Reset columns so that we can access exchanges below\n",
    "    df_agg = df_agg.reset_index()\n",
    "    \n",
    "    # Calculate % of total volume for all exchanges\n",
    "    last_vol_pert = []\n",
    "    for i, row in df_agg.iterrows():\n",
    "        try:\n",
    "            df_vol = get_vol_exchange(row[\"exchange\"], 30, base_curr)\n",
    "            current_vol = df_vol[\"volume_SMA\"][0]\n",
    "            vol_pert = (row[\"last_vol_mean\"] / current_vol) * 100\n",
    "            last_vol_pert.append(vol_pert)\n",
    "        except:\n",
    "            last_vol_pert.append(\"\")\n",
    "            continue\n",
    "            \n",
    "    # Add % of total volume column\n",
    "    df_agg[\"last_vol_pert\"] = last_vol_pert\n",
    "    \n",
    "    # Remove redundant column\n",
    "    df_agg = df_agg.drop(columns = [\"trade_time_min\"])\n",
    "    \n",
    "    # Round all float values\n",
    "    # (seems to be overwritten by style below)\n",
    "    df_agg = df_agg.round({\"last_price_mean\": 2,\n",
    "                           \"last_vol_mean\": 2,\n",
    "                           \"spread_mean\": 2\n",
    "                          })\n",
    "    \n",
    "    display(df_agg.style.apply(highlight_max_min,\n",
    "                               color = 'green',\n",
    "                               subset = \"last_price_mean\")\n",
    "           )\n",
    "    \n",
    "    return None"
   ]
  },
  {
   "cell_type": "code",
   "execution_count": 22,
   "id": "a7161bd9-9046-40d5-9710-df223402a3d2",
   "metadata": {
    "tags": []
   },
   "outputs": [],
   "source": [
    "def highlight_max_min(x, color):\n",
    "    \n",
    "    return np.where((x == np.nanmax(x.to_numpy())) |\n",
    "                    (x == np.nanmin(x.to_numpy())),\n",
    "                    f\"color: {color};\",\n",
    "                    None)"
   ]
  },
  {
   "cell_type": "code",
   "execution_count": 23,
   "id": "aa88df4a-c292-4a81-838a-1c2f64497d5e",
   "metadata": {
    "tags": []
   },
   "outputs": [],
   "source": [
    "#display_agg_per_exchange(df_ex_all)"
   ]
  },
  {
   "cell_type": "markdown",
   "id": "6b82e394-e273-4a61-ba2f-706db5d75ebc",
   "metadata": {
    "tags": []
   },
   "source": [
    "## Run bot"
   ]
  },
  {
   "cell_type": "code",
   "execution_count": 24,
   "id": "6fa2cf2f-c98d-4b0a-837e-c5b9904ace83",
   "metadata": {
    "tags": []
   },
   "outputs": [],
   "source": [
    "def run_bot(country,\n",
    "            base_curr,\n",
    "            target_curr):\n",
    "    \n",
    "    df_ex_all = get_trade_exchange_per_country(country, base_curr, target_curr)\n",
    "    \n",
    "    # Collect data every minute    \n",
    "    while True:\n",
    "        time.sleep(60)\n",
    "        df_new = get_trade_exchange_per_country(country, base_curr, target_curr)\n",
    "        \n",
    "        # Merge to existing DataFrame\n",
    "        df_ex_all = pd.concat([df_ex_all, df_new])\n",
    "        \n",
    "        # Remove duplicate rows based on all columns\n",
    "        df_ex_all = df_ex_all.drop_duplicates()\n",
    "        \n",
    "        # Clear previous display once new one is available\n",
    "        clear_output(wait = True)\n",
    "        display_agg_per_exchange(df_ex_all, base_curr)        \n",
    "        \n",
    "    return None        "
   ]
  },
  {
   "cell_type": "code",
   "execution_count": 25,
   "id": "1f655b4b-8cff-483a-9dfd-f8f975be8acd",
   "metadata": {
    "tags": []
   },
   "outputs": [],
   "source": [
    "#run_bot(\"United States\", \"ETH\", \"USDT\")"
   ]
  },
  {
   "cell_type": "markdown",
   "id": "d7640179-a619-447e-8ce5-bf034ef1397f",
   "metadata": {},
   "source": [
    "## Write to database"
   ]
  },
  {
   "cell_type": "code",
   "execution_count": 96,
   "id": "8193bcff-8ecb-4bca-86d3-ba244f0e0f1b",
   "metadata": {
    "tags": []
   },
   "outputs": [],
   "source": [
    "def create_db(df_ex_all, engine):\n",
    "    \n",
    "    for ex in df_ex_all[\"exchange\"]:\n",
    "        df_ex = df_ex_all[df_ex_all[\"exchange\"] == ex]\n",
    "        \n",
    "        # Write to a new separate table in sqlite database\n",
    "        df_ex.to_sql(name = ex, con = engine, if_exists = 'replace')\n",
    "        \n",
    "    return None        "
   ]
  },
  {
   "cell_type": "code",
   "execution_count": 100,
   "id": "d18306da-cdfe-43ca-9bd2-c15db711894b",
   "metadata": {
    "tags": []
   },
   "outputs": [],
   "source": [
    "def append_to_db(df_ex_all, engine):\n",
    "    \n",
    "    for ex in df_ex_all[\"exchange\"]:        \n",
    "        try:            \n",
    "            df_ex = df_ex_all[df_ex_all[\"exchange\"] == ex]\n",
    "\n",
    "            # Remove timezone information for easier comparison later\n",
    "            new_ts = df_ex[\"trade_time\"][0]\n",
    "            new_ts = new_ts.replace(tzinfo = None)\n",
    "\n",
    "            # Read existing table\n",
    "            df_table = pd.read_sql(f'SELECT * FROM {ex}', engine)\n",
    "\n",
    "            # Read last row (should be latest)\n",
    "            existing_ts = datetime.datetime.strptime(df_table[\"trade_time\"].iloc[-1], \n",
    "                                                     \"%Y-%m-%d %H:%M:%S.%f\")\n",
    "\n",
    "            if existing_ts == new_ts:\n",
    "                print(\"Last trade already exists!\")\n",
    "            else:\n",
    "                df_ex.to_sql(name = ex, con = engine, if_exists = 'append')\n",
    "        except:\n",
    "            warnings.warn(f'Unable to append data for {ex}')\n",
    "            continue\n",
    "            \n",
    "    return None       \n",
    "        "
   ]
  },
  {
   "cell_type": "markdown",
   "id": "da7d588c-6aa8-4919-ad5a-d112f5138061",
   "metadata": {},
   "source": [
    "## Run bot database"
   ]
  },
  {
   "cell_type": "code",
   "execution_count": 101,
   "id": "e8912695-17a6-4244-952a-81632fde2a82",
   "metadata": {
    "tags": []
   },
   "outputs": [],
   "source": [
    "def run_bot_db(country,\n",
    "               base_curr,\n",
    "               target_curr):\n",
    "    \n",
    "    engine = create_engine(f'sqlite:///{country}_{base_curr}_{target_curr}',\n",
    "                           echo = False)\n",
    "    \n",
    "    df_ex_all = get_trade_exchange_per_country(country, base_curr, target_curr)\n",
    "    \n",
    "    try:\n",
    "        create_db(df_ex_all, engine)\n",
    "    except:\n",
    "        warnings.warn(f\"Unable to create a new sqlite database!\")        \n",
    "    \n",
    "    # Collect data every minute    \n",
    "    while True:\n",
    "        time.sleep(60)\n",
    "        df_new = get_trade_exchange_per_country(country, base_curr, target_curr)\n",
    "        \n",
    "        # Write new trade data to existing sqlite database        \n",
    "        append_to_db(df_new, engine)              \n",
    "        \n",
    "    return None        "
   ]
  },
  {
   "cell_type": "code",
   "execution_count": null,
   "id": "df235a35-079a-4d57-aef7-57adfc62b40b",
   "metadata": {
    "tags": []
   },
   "outputs": [
    {
     "name": "stderr",
     "output_type": "stream",
     "text": [
      "/tmp/ipykernel_19500/3109473306.py:16: UserWarning: No data found for ETH-USD pair in tapbit\n",
      "  warnings.warn(f\"No data found for {base_curr}-{target_curr} pair in {id}\")\n",
      "/tmp/ipykernel_19500/3109473306.py:16: UserWarning: No data found for ETH-USD pair in binance_us\n",
      "  warnings.warn(f\"No data found for {base_curr}-{target_curr} pair in {id}\")\n",
      "/tmp/ipykernel_19500/3109473306.py:16: UserWarning: No data found for ETH-USD pair in metalx\n",
      "  warnings.warn(f\"No data found for {base_curr}-{target_curr} pair in {id}\")\n",
      "/tmp/ipykernel_19500/3109473306.py:16: UserWarning: No data found for ETH-USD pair in oku-trade-taiko\n",
      "  warnings.warn(f\"No data found for {base_curr}-{target_curr} pair in {id}\")\n",
      "/tmp/ipykernel_19500/3109473306.py:16: UserWarning: No data found for ETH-USD pair in oku-trade-linea\n",
      "  warnings.warn(f\"No data found for {base_curr}-{target_curr} pair in {id}\")\n",
      "/tmp/ipykernel_19500/3109473306.py:16: UserWarning: No data found for ETH-USD pair in tapbit\n",
      "  warnings.warn(f\"No data found for {base_curr}-{target_curr} pair in {id}\")\n",
      "/tmp/ipykernel_19500/3109473306.py:16: UserWarning: No data found for ETH-USD pair in binance_us\n",
      "  warnings.warn(f\"No data found for {base_curr}-{target_curr} pair in {id}\")\n",
      "/tmp/ipykernel_19500/3109473306.py:16: UserWarning: No data found for ETH-USD pair in metalx\n",
      "  warnings.warn(f\"No data found for {base_curr}-{target_curr} pair in {id}\")\n",
      "/tmp/ipykernel_19500/3109473306.py:16: UserWarning: No data found for ETH-USD pair in oku-trade-taiko\n",
      "  warnings.warn(f\"No data found for {base_curr}-{target_curr} pair in {id}\")\n",
      "/tmp/ipykernel_19500/3109473306.py:16: UserWarning: No data found for ETH-USD pair in oku-trade-linea\n",
      "  warnings.warn(f\"No data found for {base_curr}-{target_curr} pair in {id}\")\n",
      "/tmp/ipykernel_19500/4014509741.py:23: UserWarning: Unable to append data for kraken\n",
      "  warnings.warn(f'Unable to append data for {ex}')\n",
      "/tmp/ipykernel_19500/4014509741.py:23: UserWarning: Unable to append data for gemini\n",
      "  warnings.warn(f'Unable to append data for {ex}')\n",
      "/tmp/ipykernel_19500/4014509741.py:23: UserWarning: Unable to append data for itbit\n",
      "  warnings.warn(f'Unable to append data for {ex}')\n",
      "/tmp/ipykernel_19500/4014509741.py:23: UserWarning: Unable to append data for coinlist\n",
      "  warnings.warn(f'Unable to append data for {ex}')\n"
     ]
    },
    {
     "name": "stdout",
     "output_type": "stream",
     "text": [
      "Last trade already exists!\n",
      "Last trade already exists!\n",
      "Last trade already exists!\n",
      "Last trade already exists!\n"
     ]
    },
    {
     "name": "stderr",
     "output_type": "stream",
     "text": [
      "/tmp/ipykernel_19500/4014509741.py:23: UserWarning: Unable to append data for kraken\n",
      "  warnings.warn(f'Unable to append data for {ex}')\n",
      "/tmp/ipykernel_19500/4014509741.py:23: UserWarning: Unable to append data for gemini\n",
      "  warnings.warn(f'Unable to append data for {ex}')\n",
      "/tmp/ipykernel_19500/4014509741.py:23: UserWarning: Unable to append data for itbit\n",
      "  warnings.warn(f'Unable to append data for {ex}')\n",
      "/tmp/ipykernel_19500/4014509741.py:23: UserWarning: Unable to append data for coinlist\n",
      "  warnings.warn(f'Unable to append data for {ex}')\n",
      "/tmp/ipykernel_19500/3109473306.py:16: UserWarning: No data found for ETH-USD pair in tapbit\n",
      "  warnings.warn(f\"No data found for {base_curr}-{target_curr} pair in {id}\")\n",
      "/tmp/ipykernel_19500/3109473306.py:16: UserWarning: No data found for ETH-USD pair in binance_us\n",
      "  warnings.warn(f\"No data found for {base_curr}-{target_curr} pair in {id}\")\n",
      "/tmp/ipykernel_19500/3109473306.py:16: UserWarning: No data found for ETH-USD pair in metalx\n",
      "  warnings.warn(f\"No data found for {base_curr}-{target_curr} pair in {id}\")\n",
      "/tmp/ipykernel_19500/3109473306.py:16: UserWarning: No data found for ETH-USD pair in oku-trade-taiko\n",
      "  warnings.warn(f\"No data found for {base_curr}-{target_curr} pair in {id}\")\n",
      "/tmp/ipykernel_19500/3109473306.py:16: UserWarning: No data found for ETH-USD pair in oku-trade-linea\n",
      "  warnings.warn(f\"No data found for {base_curr}-{target_curr} pair in {id}\")\n"
     ]
    },
    {
     "name": "stdout",
     "output_type": "stream",
     "text": [
      "Last trade already exists!\n",
      "Last trade already exists!\n",
      "Last trade already exists!\n",
      "Last trade already exists!\n"
     ]
    },
    {
     "name": "stderr",
     "output_type": "stream",
     "text": [
      "/tmp/ipykernel_19500/4014509741.py:23: UserWarning: Unable to append data for kraken\n",
      "  warnings.warn(f'Unable to append data for {ex}')\n",
      "/tmp/ipykernel_19500/4014509741.py:23: UserWarning: Unable to append data for gemini\n",
      "  warnings.warn(f'Unable to append data for {ex}')\n",
      "/tmp/ipykernel_19500/4014509741.py:23: UserWarning: Unable to append data for itbit\n",
      "  warnings.warn(f'Unable to append data for {ex}')\n",
      "/tmp/ipykernel_19500/4014509741.py:23: UserWarning: Unable to append data for coinlist\n",
      "  warnings.warn(f'Unable to append data for {ex}')\n",
      "/tmp/ipykernel_19500/3109473306.py:16: UserWarning: No data found for ETH-USD pair in tapbit\n",
      "  warnings.warn(f\"No data found for {base_curr}-{target_curr} pair in {id}\")\n",
      "/tmp/ipykernel_19500/3109473306.py:16: UserWarning: No data found for ETH-USD pair in binance_us\n",
      "  warnings.warn(f\"No data found for {base_curr}-{target_curr} pair in {id}\")\n",
      "/tmp/ipykernel_19500/3109473306.py:16: UserWarning: No data found for ETH-USD pair in metalx\n",
      "  warnings.warn(f\"No data found for {base_curr}-{target_curr} pair in {id}\")\n",
      "/tmp/ipykernel_19500/3109473306.py:16: UserWarning: No data found for ETH-USD pair in oku-trade-taiko\n",
      "  warnings.warn(f\"No data found for {base_curr}-{target_curr} pair in {id}\")\n",
      "/tmp/ipykernel_19500/3109473306.py:16: UserWarning: No data found for ETH-USD pair in oku-trade-linea\n",
      "  warnings.warn(f\"No data found for {base_curr}-{target_curr} pair in {id}\")\n"
     ]
    },
    {
     "name": "stdout",
     "output_type": "stream",
     "text": [
      "Last trade already exists!\n",
      "Last trade already exists!\n",
      "Last trade already exists!\n",
      "Last trade already exists!\n"
     ]
    },
    {
     "name": "stderr",
     "output_type": "stream",
     "text": [
      "/tmp/ipykernel_19500/4014509741.py:23: UserWarning: Unable to append data for kraken\n",
      "  warnings.warn(f'Unable to append data for {ex}')\n",
      "/tmp/ipykernel_19500/4014509741.py:23: UserWarning: Unable to append data for gemini\n",
      "  warnings.warn(f'Unable to append data for {ex}')\n",
      "/tmp/ipykernel_19500/4014509741.py:23: UserWarning: Unable to append data for itbit\n",
      "  warnings.warn(f'Unable to append data for {ex}')\n",
      "/tmp/ipykernel_19500/4014509741.py:23: UserWarning: Unable to append data for coinlist\n",
      "  warnings.warn(f'Unable to append data for {ex}')\n",
      "/tmp/ipykernel_19500/3109473306.py:16: UserWarning: No data found for ETH-USD pair in tapbit\n",
      "  warnings.warn(f\"No data found for {base_curr}-{target_curr} pair in {id}\")\n",
      "/tmp/ipykernel_19500/3109473306.py:16: UserWarning: No data found for ETH-USD pair in binance_us\n",
      "  warnings.warn(f\"No data found for {base_curr}-{target_curr} pair in {id}\")\n",
      "/tmp/ipykernel_19500/3109473306.py:16: UserWarning: No data found for ETH-USD pair in metalx\n",
      "  warnings.warn(f\"No data found for {base_curr}-{target_curr} pair in {id}\")\n",
      "/tmp/ipykernel_19500/3109473306.py:16: UserWarning: No data found for ETH-USD pair in oku-trade-taiko\n",
      "  warnings.warn(f\"No data found for {base_curr}-{target_curr} pair in {id}\")\n",
      "/tmp/ipykernel_19500/3109473306.py:16: UserWarning: No data found for ETH-USD pair in oku-trade-linea\n",
      "  warnings.warn(f\"No data found for {base_curr}-{target_curr} pair in {id}\")\n"
     ]
    },
    {
     "name": "stdout",
     "output_type": "stream",
     "text": [
      "Last trade already exists!\n",
      "Last trade already exists!\n",
      "Last trade already exists!\n",
      "Last trade already exists!\n"
     ]
    }
   ],
   "source": [
    "run_bot_db(\"United States\", \"ETH\", \"USD\")"
   ]
  },
  {
   "cell_type": "code",
   "execution_count": null,
   "id": "5f833060-f415-459a-83cd-8d73511f648d",
   "metadata": {},
   "outputs": [],
   "source": []
  }
 ],
 "metadata": {
  "kernelspec": {
   "display_name": "Python 3 (ipykernel)",
   "language": "python",
   "name": "python3"
  },
  "language_info": {
   "codemirror_mode": {
    "name": "ipython",
    "version": 3
   },
   "file_extension": ".py",
   "mimetype": "text/x-python",
   "name": "python",
   "nbconvert_exporter": "python",
   "pygments_lexer": "ipython3",
   "version": "3.10.12"
  },
  "toc-showcode": false
 },
 "nbformat": 4,
 "nbformat_minor": 5
}
