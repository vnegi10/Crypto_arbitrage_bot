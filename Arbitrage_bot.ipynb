{
 "cells": [
  {
   "cell_type": "code",
   "execution_count": 2,
   "id": "1d801c09-de47-4f8c-92b5-670d67ff0929",
   "metadata": {},
   "outputs": [],
   "source": [
    "import requests as rq\n",
    "import json\n",
    "import pandas as pd\n",
    "pd.options.plotting.backend = \"plotly\"\n",
    "import numpy as np"
   ]
  },
  {
   "cell_type": "code",
   "execution_count": 3,
   "id": "d5822979-66da-40ea-b332-02406889f7af",
   "metadata": {
    "tags": []
   },
   "outputs": [],
   "source": [
    "# Get demo API key\n",
    "def get_demo_key():\n",
    "    f = open(\"/home/vikas/Documents/CG_demo_key.json\")\n",
    "    key_dict = json.load(f)\n",
    "    return key_dict[\"key\"] "
   ]
  },
  {
   "cell_type": "code",
   "execution_count": 4,
   "id": "fe956037-3b40-4c7e-9692-ce02cb5e0a9e",
   "metadata": {
    "tags": []
   },
   "outputs": [],
   "source": [
    "# Get pro API key\n",
    "def get_pro_key():\n",
    "    f = open(\"/home/vikas/Documents/CG_pro_key.json\")\n",
    "    key_dict = json.load(f)\n",
    "    return key_dict[\"key\"] "
   ]
  },
  {
   "cell_type": "markdown",
   "id": "3168b778-e957-43d2-a13a-d6fe23063e78",
   "metadata": {},
   "source": [
    "## Get list of exchanges"
   ]
  },
  {
   "cell_type": "code",
   "execution_count": 5,
   "id": "b8f31ae7-2c7c-4d0c-bdb6-d8e51484907d",
   "metadata": {
    "tags": []
   },
   "outputs": [],
   "source": [
    "PUB_URL = \"https://api.coingecko.com/api/v3\"\n",
    "PRO_URL = \"https://pro-api.coingecko.com/api/v3\""
   ]
  },
  {
   "cell_type": "code",
   "execution_count": 6,
   "id": "58f7a142-1261-4b71-be45-9dfdb7dba06f",
   "metadata": {
    "tags": []
   },
   "outputs": [],
   "source": [
    "def get_response(endpoint, headers, params, URL):\n",
    "    url = \"\".join((URL, endpoint))\n",
    "    response = rq.get(url, headers = headers, params = params)\n",
    "    if response.status_code == 200:\n",
    "        data = response.json()\n",
    "        return data\n",
    "    else:\n",
    "        print(f\"Failed to fetch data, check status code {response.status_code}\")    "
   ]
  },
  {
   "cell_type": "code",
   "execution_count": 7,
   "id": "2d033e73-c8f9-48f7-b548-7f98e6226b18",
   "metadata": {
    "tags": []
   },
   "outputs": [],
   "source": [
    "# Valid values for results per page is between 1-250\n",
    "exchange_params = {\n",
    "            \"per_page\": 250,\n",
    "            \"page\": 1\n",
    "}"
   ]
  },
  {
   "cell_type": "code",
   "execution_count": null,
   "id": "0f41ea48-0897-4c9d-9a08-62ef5b76b620",
   "metadata": {},
   "outputs": [],
   "source": []
  }
 ],
 "metadata": {
  "kernelspec": {
   "display_name": "Python 3 (ipykernel)",
   "language": "python",
   "name": "python3"
  },
  "language_info": {
   "codemirror_mode": {
    "name": "ipython",
    "version": 3
   },
   "file_extension": ".py",
   "mimetype": "text/x-python",
   "name": "python",
   "nbconvert_exporter": "python",
   "pygments_lexer": "ipython3",
   "version": "3.10.12"
  }
 },
 "nbformat": 4,
 "nbformat_minor": 5
}
